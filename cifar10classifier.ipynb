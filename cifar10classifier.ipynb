{
 "cells": [
  {
   "cell_type": "code",
   "execution_count": 33,
   "id": "dcb51c21",
   "metadata": {},
   "outputs": [],
   "source": [
    "#CIFAR-10 classifier\t3-channel images, overfitting\tCIFAR-10"
   ]
  },
  {
   "cell_type": "code",
   "execution_count": 34,
   "id": "28d440a7",
   "metadata": {},
   "outputs": [],
   "source": [
    "import torch\n",
    "import torch.nn as nn\n",
    "import torch.optim as optim\n",
    "from torch.utils.data import TensorDataset,DataLoader\n",
    "import torchvision\n",
    "from torchvision import transforms\n",
    "from PIL import Image\n",
    "import torch.nn.functional as F"
   ]
  },
  {
   "cell_type": "code",
   "execution_count": 35,
   "id": "e683e44e",
   "metadata": {},
   "outputs": [],
   "source": [
    "means = [0.4914, 0.4822, 0.4465]\n",
    "stds = [0.2023, 0.1994, 0.2010]\n",
    "\n",
    "train_transform=transforms.Compose([\n",
    "    transforms.RandomCrop(32, padding=4),\n",
    "    transforms.RandomHorizontalFlip(),\n",
    "    transforms.ToTensor(),\n",
    "    transforms.Normalize(mean =means,\n",
    "                          std =stds)\n",
    "])\n",
    "test_transform = transforms.Compose([\n",
    "    transforms.ToTensor(),\n",
    "    transforms.Normalize(mean=means,\n",
    "                         std=stds)\n",
    "])\n",
    "\n",
    "train_dataset=torchvision.datasets.CIFAR10(root='./data',train=True,transform=train_transform,download=True)\n",
    "test_dataset=torchvision.datasets.CIFAR10(root='./data',train=False,transform=test_transform,download=True)\n",
    "train_loader=DataLoader(train_dataset,batch_size=64,shuffle=True)\n",
    "test_loader=DataLoader(test_dataset,batch_size=64,shuffle=True)"
   ]
  },
  {
   "cell_type": "code",
   "execution_count": 36,
   "id": "343bb7b3",
   "metadata": {},
   "outputs": [],
   "source": [
    "class CIFAR10classifier(nn.Module):\n",
    "    def __init__(self,hidden_size,output_size):\n",
    "        super().__init__()\n",
    "        self.conv1=nn.Conv2d(in_channels=3,out_channels=16,kernel_size=3,padding=1)\n",
    "        self.pool=nn.MaxPool2d(kernel_size=2,stride=2)\n",
    "        self.conv2=nn.Conv2d(in_channels=16,out_channels=32,kernel_size=3,padding=1)\n",
    "        self.pool2=nn.MaxPool2d(kernel_size=2,stride=2)\n",
    "        self.flattened_size=32*8*8\n",
    "        self.fc1=nn.Linear(self.flattened_size,hidden_size)\n",
    "        self.fc2=nn.Linear(hidden_size,output_size)\n",
    "        self.dropout = nn.Dropout(p=0.5)\n",
    "\n",
    "    def forward(self,X):\n",
    "        X=self.pool(F.relu(self.conv1(X)))\n",
    "        X=self.pool2(F.relu(self.conv2(X)))\n",
    "        X=torch.flatten(X,1)\n",
    "        X=F.relu(self.fc1(X))\n",
    "        X = self.dropout(X)\n",
    "        X=self.fc2(X)\n",
    "        return X"
   ]
  },
  {
   "cell_type": "code",
   "execution_count": 37,
   "id": "89269bcb",
   "metadata": {},
   "outputs": [],
   "source": [
    "hidden_size=64\n",
    "output_size=10\n",
    "model=CIFAR10classifier(hidden_size,output_size)\n",
    "criterion=nn.CrossEntropyLoss()\n",
    "optimizer=optim.Adam(model.parameters(),lr=0.001)"
   ]
  },
  {
   "cell_type": "code",
   "execution_count": 38,
   "id": "fd176783",
   "metadata": {},
   "outputs": [
    {
     "name": "stdout",
     "output_type": "stream",
     "text": [
      "Output shape: torch.Size([64, 10])\n",
      "Loss: tensor(2.3027, grad_fn=<NllLossBackward0>)\n"
     ]
    }
   ],
   "source": [
    "inputs, labels = next(iter(train_loader))\n",
    "outputs = model(inputs)\n",
    "print(\"Output shape:\", outputs.shape)\n",
    "print(\"Loss:\", criterion(outputs, labels))\n"
   ]
  },
  {
   "cell_type": "code",
   "execution_count": 40,
   "id": "3b78ba4e",
   "metadata": {},
   "outputs": [
    {
     "name": "stdout",
     "output_type": "stream",
     "text": [
      "epoch 1, loss:1.1497570060555586\n",
      "epoch 2, loss:1.1387497766700851\n",
      "epoch 3, loss:1.1349467783023024\n",
      "epoch 4, loss:1.1270648511626837\n",
      "epoch 5, loss:1.1196828714721954\n",
      "epoch 6, loss:1.1189947209089919\n",
      "epoch 7, loss:1.1035489160996264\n",
      "epoch 8, loss:1.1047630720888562\n",
      "epoch 9, loss:1.1015898047963066\n",
      "epoch 10, loss:1.0919435572288836\n",
      "epoch 11, loss:1.0888997932224322\n",
      "epoch 12, loss:1.0850715773642217\n",
      "epoch 13, loss:1.0838130528054883\n",
      "epoch 14, loss:1.0825447516368174\n",
      "epoch 15, loss:1.0754409741867534\n",
      "epoch 16, loss:1.072737330289753\n",
      "epoch 17, loss:1.069023007093488\n",
      "epoch 18, loss:1.069728509773074\n",
      "epoch 19, loss:1.0646939910281346\n",
      "epoch 20, loss:1.0635364032767314\n",
      "epoch 21, loss:1.0610731406437466\n",
      "epoch 22, loss:1.0578655663048824\n",
      "epoch 23, loss:1.0500835972978635\n",
      "epoch 24, loss:1.0536528472095499\n",
      "epoch 25, loss:1.0478688867195793\n",
      "epoch 26, loss:1.0422712423459952\n",
      "epoch 27, loss:1.0459471079699523\n",
      "epoch 28, loss:1.0423386609157943\n",
      "epoch 29, loss:1.0383595132919223\n",
      "epoch 30, loss:1.040187271126091\n"
     ]
    }
   ],
   "source": [
    "no_epochs=30\n",
    "model.train()\n",
    "for epochs in range(no_epochs):\n",
    "    running_loss=0\n",
    "    for inputs,labels in train_loader:\n",
    "        outputs=model(inputs)\n",
    "        optimizer.zero_grad()\n",
    "        loss=criterion(outputs,labels)\n",
    "        loss.backward()\n",
    "        optimizer.step()\n",
    "        running_loss+=loss.item()\n",
    "    average_loss=running_loss/len(train_loader)\n",
    "    print(f\"epoch {epochs+1}, loss:{average_loss}\")\n"
   ]
  },
  {
   "cell_type": "code",
   "execution_count": 41,
   "id": "dfcd8ba9",
   "metadata": {},
   "outputs": [
    {
     "name": "stdout",
     "output_type": "stream",
     "text": [
      "✅ Model saved as 'cifar10_classifier.pth'\n"
     ]
    }
   ],
   "source": [
    "torch.save(model.state_dict(), 'cifar10_classifier.pth')\n",
    "print(\"✅ Model saved as 'cifar10_classifier.pth'\")"
   ]
  },
  {
   "cell_type": "code",
   "execution_count": 42,
   "id": "b0b40b74",
   "metadata": {},
   "outputs": [
    {
     "name": "stdout",
     "output_type": "stream",
     "text": [
      "torch.Size([16, 10])\n",
      "Accuracy of the network on the 10000 test images: 71.49%\n"
     ]
    }
   ],
   "source": [
    "model.eval()\n",
    "with torch.no_grad():\n",
    "    total=0\n",
    "    correct=0\n",
    "    for inputs,labels in test_loader:\n",
    "        outputs=model(inputs)\n",
    "        _,predicted=torch.max(outputs.data,1)\n",
    "        total+=labels.size(0)\n",
    "        correct+=(predicted==labels).sum().item()\n",
    "    print(outputs.shape)\n",
    "    accuracy = 100 * correct / total\n",
    "    print(f'Accuracy of the network on the 10000 test images: {accuracy:.2f}%')\n",
    "\n",
    "\n",
    "\n",
    "\n"
   ]
  },
  {
   "cell_type": "code",
   "execution_count": 43,
   "id": "aaf06837",
   "metadata": {},
   "outputs": [
    {
     "name": "stdout",
     "output_type": "stream",
     "text": [
      "predicted class: horse\n"
     ]
    }
   ],
   "source": [
    "image=Image.open(\"C:/Users/LENOVO/Downloads/horseCIFAR.jpg\").convert('RGB')\n",
    "transform_img=transforms.Compose([transforms.Resize((32,32)),\n",
    "                                  transforms.ToTensor(),\n",
    "                                  transforms.Normalize(mean=[0.4914,0.4822,0.4465],\n",
    "                                                       std=[0.2023,0.1994,0.2010])\n",
    "                                                       ])\n",
    "input_tesnor=transform_img(image)\n",
    "input_tensor=input_tesnor.unsqueeze(0)\n",
    "\n",
    "with torch.no_grad():\n",
    "    outputs = model(input_tensor)\n",
    "    _, predicted = torch.max(outputs, 1)\n",
    "    predicted_class = predicted.item()\n",
    "classes=['airplane','automobile','bird','cat','deer','dog','frog','horse','ship','truck']\n",
    "print('predicted class:',classes[predicted_class])"
   ]
  }
 ],
 "metadata": {
  "kernelspec": {
   "display_name": "venvtorch (3.13.5)",
   "language": "python",
   "name": "python3"
  },
  "language_info": {
   "codemirror_mode": {
    "name": "ipython",
    "version": 3
   },
   "file_extension": ".py",
   "mimetype": "text/x-python",
   "name": "python",
   "nbconvert_exporter": "python",
   "pygments_lexer": "ipython3",
   "version": "3.13.5"
  }
 },
 "nbformat": 4,
 "nbformat_minor": 5
}
